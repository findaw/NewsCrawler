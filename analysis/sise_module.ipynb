{
 "cells": [
  {
   "cell_type": "code",
   "execution_count": 2,
   "id": "9edea8bb",
   "metadata": {},
   "outputs": [],
   "source": [
    "import warnings             \n",
    "warnings.filterwarnings(action='ignore')          # 경고 문구 무시\n",
    "from IPython.core.interactiveshell import InteractiveShell\n",
    "InteractiveShell.ast_node_interactivity = \"all\"   # 셀 하나에 ouput 모두 출력 가능\n",
    "import numpy as np                            \n",
    "import pandas as pd\n",
    "import matplotlib as mpl\n",
    "import matplotlib.pyplot as plt\n",
    "import seaborn as sns\n",
    "#  한글글꼴로 변경\n",
    "plt.rcParams['font.size'] = 12.0\n",
    "# plt.rcParams['font.family'] = 'batang'\n",
    "plt.rcParams['font.family'] = 'Malgun Gothic'\n",
    "# 음수 표시 에러 \n",
    "mpl.rcParams['axes.unicode_minus'] = False\n",
    "import json\n",
    "pd.options.display.max_rows= 10    # 화면에 최대 12개까지 결과 출력\n",
    "np.random.seed(12345)\n",
    "\n",
    "import statsmodels.api as sm\n",
    "from sklearn.linear_model import LinearRegression\n",
    "from sklearn.model_selection import train_test_split\n",
    "from datetime import datetime\n",
    "from datetime import timedelta\n",
    "pd.options.display.max_rows= 10    # 화면에 최대 12개까지 결과 출력\n",
    "np.random.seed(12345)"
   ]
  },
  {
   "cell_type": "code",
   "execution_count": 3,
   "id": "1f26c789",
   "metadata": {},
   "outputs": [],
   "source": [
    "kakao_sise = pd.read_csv('kakao_sise.csv', index_col=[0]) #\n",
    "kakao_sise['code'] = '035720'\n",
    "kakao_sise['종목명'] = '카카오'\n",
    "kakao_sise['증가율'] = (kakao_sise.종가 / kakao_sise.종가.shift(1)-1).fillna(0)\n",
    "samsung_sise = pd.read_csv('samsung_sise.csv', index_col=[0]) #\n",
    "samsung_sise['code'] = '005930'\n",
    "samsung_sise['종목명'] = '삼성전자'\n",
    "samsung_sise['증가율'] = (samsung_sise.종가 / samsung_sise.종가.shift(1)-1).fillna(0)\n",
    "samsungwu_sise =pd.read_csv('samsungwu_sise.csv', index_col=[0]) #\n",
    "samsungwu_sise['code'] = '005935'\n",
    "samsungwu_sise['종목명'] = '삼성전자우'\n",
    "samsungwu_sise['증가율'] = (samsungwu_sise.종가 / samsungwu_sise.종가.shift(1)-1).fillna(0)\n",
    "sk_sise = pd.read_csv('sk_sise.csv', index_col=[0]) #\n",
    "sk_sise['code'] = '000660'\n",
    "sk_sise['종목명']= 'SK하이닉스'\n",
    "sk_sise['증가율'] =( sk_sise.종가 / sk_sise.종가.shift(1)-1).fillna(0)\n",
    "naver_sise = pd.read_csv('naver_sise.csv', index_col=[0])  #\n",
    "naver_sise['code'] = '035420'\n",
    "naver_sise['종목명'] = '네이버'\n",
    "naver_sise['증가율'] = (naver_sise.종가 / naver_sise.종가.shift(1)-1).fillna(0)"
   ]
  },
  {
   "cell_type": "code",
   "execution_count": 4,
   "id": "74d473fa",
   "metadata": {},
   "outputs": [
    {
     "data": {
      "text/html": [
       "<div>\n",
       "<style scoped>\n",
       "    .dataframe tbody tr th:only-of-type {\n",
       "        vertical-align: middle;\n",
       "    }\n",
       "\n",
       "    .dataframe tbody tr th {\n",
       "        vertical-align: top;\n",
       "    }\n",
       "\n",
       "    .dataframe thead th {\n",
       "        text-align: right;\n",
       "    }\n",
       "</style>\n",
       "<table border=\"1\" class=\"dataframe\">\n",
       "  <thead>\n",
       "    <tr style=\"text-align: right;\">\n",
       "      <th></th>\n",
       "      <th>날짜</th>\n",
       "      <th>시가</th>\n",
       "      <th>고가</th>\n",
       "      <th>저가</th>\n",
       "      <th>종가</th>\n",
       "      <th>거래량</th>\n",
       "      <th>외국인소진율</th>\n",
       "      <th>code</th>\n",
       "      <th>종목명</th>\n",
       "      <th>증가율</th>\n",
       "    </tr>\n",
       "  </thead>\n",
       "  <tbody>\n",
       "    <tr>\n",
       "      <th>2820</th>\n",
       "      <td>2021-06-08</td>\n",
       "      <td>74200</td>\n",
       "      <td>74600</td>\n",
       "      <td>74200</td>\n",
       "      <td>74200</td>\n",
       "      <td>1058237</td>\n",
       "      <td>76.51</td>\n",
       "      <td>005935</td>\n",
       "      <td>삼성전자우</td>\n",
       "      <td>-0.004027</td>\n",
       "    </tr>\n",
       "    <tr>\n",
       "      <th>2821</th>\n",
       "      <td>2021-06-09</td>\n",
       "      <td>74200</td>\n",
       "      <td>74400</td>\n",
       "      <td>74000</td>\n",
       "      <td>74200</td>\n",
       "      <td>835679</td>\n",
       "      <td>76.54</td>\n",
       "      <td>005935</td>\n",
       "      <td>삼성전자우</td>\n",
       "      <td>0.000000</td>\n",
       "    </tr>\n",
       "    <tr>\n",
       "      <th>2822</th>\n",
       "      <td>2021-06-10</td>\n",
       "      <td>74000</td>\n",
       "      <td>74200</td>\n",
       "      <td>73900</td>\n",
       "      <td>73900</td>\n",
       "      <td>828699</td>\n",
       "      <td>76.51</td>\n",
       "      <td>005935</td>\n",
       "      <td>삼성전자우</td>\n",
       "      <td>-0.004043</td>\n",
       "    </tr>\n",
       "    <tr>\n",
       "      <th>2823</th>\n",
       "      <td>2021-06-11</td>\n",
       "      <td>73900</td>\n",
       "      <td>74400</td>\n",
       "      <td>73900</td>\n",
       "      <td>74300</td>\n",
       "      <td>796762</td>\n",
       "      <td>76.51</td>\n",
       "      <td>005935</td>\n",
       "      <td>삼성전자우</td>\n",
       "      <td>0.005413</td>\n",
       "    </tr>\n",
       "    <tr>\n",
       "      <th>2824</th>\n",
       "      <td>2021-06-14</td>\n",
       "      <td>74300</td>\n",
       "      <td>74400</td>\n",
       "      <td>73900</td>\n",
       "      <td>74200</td>\n",
       "      <td>764898</td>\n",
       "      <td>76.51</td>\n",
       "      <td>005935</td>\n",
       "      <td>삼성전자우</td>\n",
       "      <td>-0.001346</td>\n",
       "    </tr>\n",
       "    <tr>\n",
       "      <th>2825</th>\n",
       "      <td>2021-06-15</td>\n",
       "      <td>74300</td>\n",
       "      <td>74400</td>\n",
       "      <td>74100</td>\n",
       "      <td>74300</td>\n",
       "      <td>838110</td>\n",
       "      <td>76.50</td>\n",
       "      <td>005935</td>\n",
       "      <td>삼성전자우</td>\n",
       "      <td>0.001348</td>\n",
       "    </tr>\n",
       "    <tr>\n",
       "      <th>2826</th>\n",
       "      <td>2021-06-16</td>\n",
       "      <td>74300</td>\n",
       "      <td>74700</td>\n",
       "      <td>74300</td>\n",
       "      <td>74700</td>\n",
       "      <td>923875</td>\n",
       "      <td>76.53</td>\n",
       "      <td>005935</td>\n",
       "      <td>삼성전자우</td>\n",
       "      <td>0.005384</td>\n",
       "    </tr>\n",
       "    <tr>\n",
       "      <th>2827</th>\n",
       "      <td>2021-06-17</td>\n",
       "      <td>74700</td>\n",
       "      <td>74800</td>\n",
       "      <td>74300</td>\n",
       "      <td>74300</td>\n",
       "      <td>973761</td>\n",
       "      <td>76.54</td>\n",
       "      <td>005935</td>\n",
       "      <td>삼성전자우</td>\n",
       "      <td>-0.005355</td>\n",
       "    </tr>\n",
       "    <tr>\n",
       "      <th>2828</th>\n",
       "      <td>2021-06-18</td>\n",
       "      <td>74500</td>\n",
       "      <td>74600</td>\n",
       "      <td>74000</td>\n",
       "      <td>74000</td>\n",
       "      <td>1426525</td>\n",
       "      <td>76.51</td>\n",
       "      <td>005935</td>\n",
       "      <td>삼성전자우</td>\n",
       "      <td>-0.004038</td>\n",
       "    </tr>\n",
       "    <tr>\n",
       "      <th>2829</th>\n",
       "      <td>2021-06-21</td>\n",
       "      <td>73800</td>\n",
       "      <td>73900</td>\n",
       "      <td>73500</td>\n",
       "      <td>73700</td>\n",
       "      <td>1128808</td>\n",
       "      <td>76.51</td>\n",
       "      <td>005935</td>\n",
       "      <td>삼성전자우</td>\n",
       "      <td>-0.004054</td>\n",
       "    </tr>\n",
       "  </tbody>\n",
       "</table>\n",
       "</div>"
      ],
      "text/plain": [
       "             날짜     시가     고가     저가     종가      거래량  외국인소진율    code    종목명  \\\n",
       "2820 2021-06-08  74200  74600  74200  74200  1058237   76.51  005935  삼성전자우   \n",
       "2821 2021-06-09  74200  74400  74000  74200   835679   76.54  005935  삼성전자우   \n",
       "2822 2021-06-10  74000  74200  73900  73900   828699   76.51  005935  삼성전자우   \n",
       "2823 2021-06-11  73900  74400  73900  74300   796762   76.51  005935  삼성전자우   \n",
       "2824 2021-06-14  74300  74400  73900  74200   764898   76.51  005935  삼성전자우   \n",
       "2825 2021-06-15  74300  74400  74100  74300   838110   76.50  005935  삼성전자우   \n",
       "2826 2021-06-16  74300  74700  74300  74700   923875   76.53  005935  삼성전자우   \n",
       "2827 2021-06-17  74700  74800  74300  74300   973761   76.54  005935  삼성전자우   \n",
       "2828 2021-06-18  74500  74600  74000  74000  1426525   76.51  005935  삼성전자우   \n",
       "2829 2021-06-21  73800  73900  73500  73700  1128808   76.51  005935  삼성전자우   \n",
       "\n",
       "           증가율  \n",
       "2820 -0.004027  \n",
       "2821  0.000000  \n",
       "2822 -0.004043  \n",
       "2823  0.005413  \n",
       "2824 -0.001346  \n",
       "2825  0.001348  \n",
       "2826  0.005384  \n",
       "2827 -0.005355  \n",
       "2828 -0.004038  \n",
       "2829 -0.004054  "
      ]
     },
     "execution_count": 4,
     "metadata": {},
     "output_type": "execute_result"
    }
   ],
   "source": [
    "sise_data = samsung_sise.copy()\n",
    "sise_data=pd.concat([sise_data, sk_sise, kakao_sise, naver_sise, samsungwu_sise])\n",
    "sise_data.날짜 = pd.to_datetime(sise_data.날짜, format='%Y%m%d')\n",
    "sise_data.tail(10)"
   ]
  },
  {
   "cell_type": "code",
   "execution_count": null,
   "id": "4c003a53",
   "metadata": {},
   "outputs": [],
   "source": [
    "sise_data['전일비']  = sise_data.종가.diff().fillna(0)\n",
    "sise_data"
   ]
  },
  {
   "cell_type": "code",
   "execution_count": 6,
   "id": "abeb1fed",
   "metadata": {},
   "outputs": [
    {
     "data": {
      "text/plain": [
       "<matplotlib.collections.PathCollection at 0x20495f90220>"
      ]
     },
     "execution_count": 6,
     "metadata": {},
     "output_type": "execute_result"
    },
    {
     "data": {
      "text/plain": [
       "Text(0.5, 0, '증가율')"
      ]
     },
     "execution_count": 6,
     "metadata": {},
     "output_type": "execute_result"
    },
    {
     "data": {
      "text/plain": [
       "Text(0, 0.5, '거래량')"
      ]
     },
     "execution_count": 6,
     "metadata": {},
     "output_type": "execute_result"
    },
    {
     "data": {
      "text/plain": [
       "<matplotlib.collections.PathCollection at 0x2049c3109d0>"
      ]
     },
     "execution_count": 6,
     "metadata": {},
     "output_type": "execute_result"
    },
    {
     "data": {
      "text/plain": [
       "Text(0.5, 0, '증가율')"
      ]
     },
     "execution_count": 6,
     "metadata": {},
     "output_type": "execute_result"
    },
    {
     "data": {
      "text/plain": [
       "Text(0, 0.5, '거래량')"
      ]
     },
     "execution_count": 6,
     "metadata": {},
     "output_type": "execute_result"
    },
    {
     "data": {
      "text/plain": [
       "<matplotlib.collections.PathCollection at 0x2049c310d60>"
      ]
     },
     "execution_count": 6,
     "metadata": {},
     "output_type": "execute_result"
    },
    {
     "data": {
      "text/plain": [
       "Text(0.5, 0, '증가율')"
      ]
     },
     "execution_count": 6,
     "metadata": {},
     "output_type": "execute_result"
    },
    {
     "data": {
      "text/plain": [
       "Text(0, 0.5, '거래량')"
      ]
     },
     "execution_count": 6,
     "metadata": {},
     "output_type": "execute_result"
    },
    {
     "data": {
      "text/plain": [
       "<matplotlib.collections.PathCollection at 0x2049c330190>"
      ]
     },
     "execution_count": 6,
     "metadata": {},
     "output_type": "execute_result"
    },
    {
     "data": {
      "text/plain": [
       "Text(0.5, 0, '증가율')"
      ]
     },
     "execution_count": 6,
     "metadata": {},
     "output_type": "execute_result"
    },
    {
     "data": {
      "text/plain": [
       "Text(0, 0.5, '거래량')"
      ]
     },
     "execution_count": 6,
     "metadata": {},
     "output_type": "execute_result"
    },
    {
     "data": {
      "text/plain": [
       "<matplotlib.collections.PathCollection at 0x2049c06d4c0>"
      ]
     },
     "execution_count": 6,
     "metadata": {},
     "output_type": "execute_result"
    },
    {
     "data": {
      "text/plain": [
       "Text(0.5, 0, '증가율')"
      ]
     },
     "execution_count": 6,
     "metadata": {},
     "output_type": "execute_result"
    },
    {
     "data": {
      "text/plain": [
       "Text(0, 0.5, '거래량')"
      ]
     },
     "execution_count": 6,
     "metadata": {},
     "output_type": "execute_result"
    },
    {
     "data": {
      "image/png": "[encoded data removed]",
      "text/plain": [
       "<Figure size 432x288 with 1 Axes>"
      ]
     },
     "metadata": {
      "needs_background": "light"
     },
     "output_type": "display_data"
    }
   ],
   "source": [
    "for name in set(sise_data.code):\n",
    "    plt.scatter(sise_data[sise_data.code==name].code, sise_data[sise_data.code==name].거래량);\n",
    "    plt.xlabel('증가율')\n",
    "    plt.ylabel('거래량')"
   ]
  },
  {
   "cell_type": "code",
   "execution_count": 36,
   "id": "7a5d7f4e",
   "metadata": {},
   "outputs": [
    {
     "data": {
      "text/plain": [
       "0        158976\n",
       "1        124156\n",
       "2         72453\n",
       "3         99241\n",
       "4        114818\n",
       "         ...   \n",
       "2825    4950329\n",
       "2826    4996272\n",
       "2827    5408889\n",
       "2828    7706345\n",
       "2829    7656573\n",
       "Name: 거래량, Length: 2830, dtype: int64"
      ]
     },
     "execution_count": 36,
     "metadata": {},
     "output_type": "execute_result"
    }
   ],
   "source": [
    "sise_data[sise_data.종목명=='카카오'].거래량"
   ]
  },
  {
   "cell_type": "code",
   "execution_count": 33,
   "id": "0188f36f",
   "metadata": {},
   "outputs": [
    {
     "data": {
      "text/plain": [
       "<matplotlib.collections.PathCollection at 0x1a22f99fb20>"
      ]
     },
     "execution_count": 33,
     "metadata": {},
     "output_type": "execute_result"
    },
    {
     "data": {
      "text/plain": [
       "Text(0.5, 0, '증가율')"
      ]
     },
     "execution_count": 33,
     "metadata": {},
     "output_type": "execute_result"
    },
    {
     "data": {
      "text/plain": [
       "Text(0, 0.5, '거래량')"
      ]
     },
     "execution_count": 33,
     "metadata": {},
     "output_type": "execute_result"
    },
    {
     "data": {
      "text/plain": [
       "(0.0, 17115015.0)"
      ]
     },
     "execution_count": 33,
     "metadata": {},
     "output_type": "execute_result"
    },
    {
     "data": {
      "text/plain": [
       "Text(0.5, 1.0, '카카오 거래량과 주가 증가율 산점도')"
      ]
     },
     "execution_count": 33,
     "metadata": {},
     "output_type": "execute_result"
    },
    {
     "data": {
      "image/png": "[encoded data removed]",
      "text/plain": [
       "<Figure size 432x288 with 1 Axes>"
      ]
     },
     "metadata": {
      "needs_background": "light"
     },
     "output_type": "display_data"
    }
   ],
   "source": [
    "plt.scatter(kakao_sise.증가율, kakao_sise.거래량)\n",
    "plt.xlabel('증가율')\n",
    "plt.ylabel('거래량')\n",
    "min = sise_data[sise_data.종목명=='카카오'].거래량.min()\n",
    "max = sise_data[sise_data.종목명=='카카오'].거래량.max()\n",
    "plt.ylim(min, max)\n",
    "plt.title('카카오 거래량과 주가 증가율 산점도')\n",
    "plt.savefig('figures/카카오_거래량_증가율.png')"
   ]
  },
  {
   "cell_type": "code",
   "execution_count": 7,
   "id": "9d0990da",
   "metadata": {},
   "outputs": [
    {
     "data": {
      "text/plain": [
       "<matplotlib.collections.PathCollection at 0x1a2292fe6d0>"
      ]
     },
     "execution_count": 7,
     "metadata": {},
     "output_type": "execute_result"
    },
    {
     "data": {
      "text/plain": [
       "Text(0.5, 0, '증가율')"
      ]
     },
     "execution_count": 7,
     "metadata": {},
     "output_type": "execute_result"
    },
    {
     "data": {
      "text/plain": [
       "Text(0, 0.5, '거래량')"
      ]
     },
     "execution_count": 7,
     "metadata": {},
     "output_type": "execute_result"
    },
    {
     "data": {
      "image/png": "[encoded data removed]",
      "text/plain": [
       "<Figure size 432x288 with 1 Axes>"
      ]
     },
     "metadata": {
      "needs_background": "light"
     },
     "output_type": "display_data"
    }
   ],
   "source": [
    "plt.scatter(samsung_sise.증가율, samsung_sise.거래량)\n",
    "plt.xlabel('증가율')\n",
    "plt.ylabel('거래량')\n",
    "plt.savefig('figures/삼성_거래량_증가율.png')"
   ]
  },
  {
   "cell_type": "code",
   "execution_count": 8,
   "id": "2418afed",
   "metadata": {},
   "outputs": [
    {
     "data": {
      "text/plain": [
       "<matplotlib.collections.PathCollection at 0x1a2293aca60>"
      ]
     },
     "execution_count": 8,
     "metadata": {},
     "output_type": "execute_result"
    },
    {
     "data": {
      "text/plain": [
       "Text(0.5, 0, '증가율')"
      ]
     },
     "execution_count": 8,
     "metadata": {},
     "output_type": "execute_result"
    },
    {
     "data": {
      "text/plain": [
       "Text(0, 0.5, '거래량')"
      ]
     },
     "execution_count": 8,
     "metadata": {},
     "output_type": "execute_result"
    },
    {
     "data": {
      "image/png": "[encoded data removed]",
      "text/plain": [
       "<Figure size 432x288 with 1 Axes>"
      ]
     },
     "metadata": {
      "needs_background": "light"
     },
     "output_type": "display_data"
    }
   ],
   "source": [
    "plt.scatter(samsung_sise.증가율, samsung_sise.거래량)\n",
    "plt.xlabel('증가율')\n",
    "plt.ylabel('거래량')"
   ]
  },
  {
   "cell_type": "code",
   "execution_count": 9,
   "id": "4bfe11d6",
   "metadata": {},
   "outputs": [
    {
     "data": {
      "text/plain": [
       "<matplotlib.collections.PathCollection at 0x1a2291fab20>"
      ]
     },
     "execution_count": 9,
     "metadata": {},
     "output_type": "execute_result"
    },
    {
     "data": {
      "text/plain": [
       "Text(0.5, 0, '증가율')"
      ]
     },
     "execution_count": 9,
     "metadata": {},
     "output_type": "execute_result"
    },
    {
     "data": {
      "text/plain": [
       "Text(0, 0.5, '거래량')"
      ]
     },
     "execution_count": 9,
     "metadata": {},
     "output_type": "execute_result"
    },
    {
     "data": {
      "image/png": "[encoded data removed]",
      "text/plain": [
       "<Figure size 432x288 with 1 Axes>"
      ]
     },
     "metadata": {
      "needs_background": "light"
     },
     "output_type": "display_data"
    }
   ],
   "source": [
    "plt.scatter(samsungwu_sise.증가율, samsungwu_sise.거래량)\n",
    "plt.xlabel('증가율')\n",
    "plt.ylabel('거래량')\n",
    "plt.savefig('figures/삼성우_거래량_증가율.png')"
   ]
  },
  {
   "cell_type": "code",
   "execution_count": 10,
   "id": "1766629e",
   "metadata": {},
   "outputs": [
    {
     "data": {
      "text/plain": [
       "<matplotlib.collections.PathCollection at 0x1a229326b80>"
      ]
     },
     "execution_count": 10,
     "metadata": {},
     "output_type": "execute_result"
    },
    {
     "data": {
      "text/plain": [
       "Text(0.5, 0, '증가율')"
      ]
     },
     "execution_count": 10,
     "metadata": {},
     "output_type": "execute_result"
    },
    {
     "data": {
      "text/plain": [
       "Text(0, 0.5, '거래량')"
      ]
     },
     "execution_count": 10,
     "metadata": {},
     "output_type": "execute_result"
    },
    {
     "data": {
      "image/png": "[encoded data removed]",
      "text/plain": [
       "<Figure size 432x288 with 1 Axes>"
      ]
     },
     "metadata": {
      "needs_background": "light"
     },
     "output_type": "display_data"
    }
   ],
   "source": [
    "plt.scatter(naver_sise.증가율, naver_sise.거래량)\n",
    "plt.xlabel('증가율')\n",
    "plt.ylabel('거래량')\n",
    "plt.savefig('figures/네이버_거래량_증가율.png')"
   ]
  },
  {
   "cell_type": "code",
   "execution_count": 11,
   "id": "840996ee",
   "metadata": {},
   "outputs": [
    {
     "data": {
      "text/plain": [
       "<matplotlib.collections.PathCollection at 0x1a2294c3eb0>"
      ]
     },
     "execution_count": 11,
     "metadata": {},
     "output_type": "execute_result"
    },
    {
     "data": {
      "text/plain": [
       "Text(0.5, 0, '증가율')"
      ]
     },
     "execution_count": 11,
     "metadata": {},
     "output_type": "execute_result"
    },
    {
     "data": {
      "text/plain": [
       "Text(0, 0.5, '거래량')"
      ]
     },
     "execution_count": 11,
     "metadata": {},
     "output_type": "execute_result"
    },
    {
     "data": {
      "image/png": "[encoded data removed]",
      "text/plain": [
       "<Figure size 432x288 with 1 Axes>"
      ]
     },
     "metadata": {
      "needs_background": "light"
     },
     "output_type": "display_data"
    }
   ],
   "source": [
    "plt.scatter(sk_sise.증가율, sk_sise.거래량)\n",
    "plt.xlabel('증가율')\n",
    "plt.ylabel('거래량')\n",
    "plt.savefig('figures/SK_거래량_증가율.png')"
   ]
  },
  {
   "cell_type": "code",
   "execution_count": null,
   "id": "2187d079",
   "metadata": {},
   "outputs": [],
   "source": []
  },
  {
   "cell_type": "code",
   "execution_count": null,
   "id": "9036f1c0",
   "metadata": {},
   "outputs": [],
   "source": []
  },
  {
   "cell_type": "code",
   "execution_count": null,
   "id": "1618d206",
   "metadata": {},
   "outputs": [],
   "source": []
  },
  {
   "cell_type": "code",
   "execution_count": null,
   "id": "b2bb1d53",
   "metadata": {},
   "outputs": [],
   "source": []
  },
  {
   "cell_type": "code",
   "execution_count": null,
   "id": "6e48498f",
   "metadata": {},
   "outputs": [],
   "source": []
  },
  {
   "cell_type": "code",
   "execution_count": null,
   "id": "c5ebc46f",
   "metadata": {},
   "outputs": [],
   "source": []
  },
  {
   "cell_type": "code",
   "execution_count": null,
   "id": "da7b3a84",
   "metadata": {},
   "outputs": [],
   "source": []
  }
 ],
 "metadata": {
  "kernelspec": {
   "display_name": "Python 3",
   "language": "python",
   "name": "python3"
  },
  "language_info": {
   "codemirror_mode": {
    "name": "ipython",
    "version": 3
   },
   "file_extension": ".py",
   "mimetype": "text/x-python",
   "name": "python",
   "nbconvert_exporter": "python",
   "pygments_lexer": "ipython3",
   "version": "3.8.8"
  }
 },
 "nbformat": 4,
 "nbformat_minor": 5
}
