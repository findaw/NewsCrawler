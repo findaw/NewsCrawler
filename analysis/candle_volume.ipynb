{
 "cells": [
  {
   "cell_type": "code",
   "execution_count": 6,
   "id": "501ab7b2",
   "metadata": {},
   "outputs": [],
   "source": [
    "import warnings             \n",
    "warnings.filterwarnings(action='ignore')          # 경고 문구 무시\n",
    "from IPython.core.interactiveshell import InteractiveShell\n",
    "InteractiveShell.ast_node_interactivity = \"all\"   # 셀 하나에 ouput 모두 출력 가능\n",
    "import numpy as np                            \n",
    "import pandas as pd\n",
    "import matplotlib as mpl\n",
    "import matplotlib.pyplot as plt\n",
    "import seaborn as sns\n",
    "#  한글글꼴로 변경\n",
    "plt.rcParams['font.size'] = 12.0\n",
    "# plt.rcParams['font.family'] = 'batang'\n",
    "plt.rcParams['font.family'] = 'Malgun Gothic'\n",
    "# 음수 표시 에러 \n",
    "mpl.rcParams['axes.unicode_minus'] = False\n",
    "import json\n",
    "pd.options.display.max_rows= 10    # 화면에 최대 12개까지 결과 출력\n",
    "np.random.seed(12345)\n",
    "\n",
    "import statsmodels.api as sm\n",
    "from sklearn.linear_model import LinearRegression\n",
    "from sklearn.model_selection import train_test_split\n",
    "from datetime import datetime\n",
    "from datetime import timedelta\n",
    "pd.options.display.max_rows= 10    # 화면에 최대 12개까지 결과 출력\n",
    "np.random.seed(12345) "
   ]
  },
  {
   "cell_type": "code",
   "execution_count": 7,
   "id": "e9081ce9",
   "metadata": {},
   "outputs": [],
   "source": [
    "from mpl_finance import candlestick2_ohlc\n",
    "import matplotlib.ticker as ticker"
   ]
  },
  {
   "cell_type": "code",
   "execution_count": null,
   "id": "c710ce0b",
   "metadata": {},
   "outputs": [],
   "source": []
  },
  {
   "cell_type": "code",
   "execution_count": null,
   "id": "1e49d8cf",
   "metadata": {},
   "outputs": [],
   "source": [
    "fig = plt.figure(figsize=(20,10))\n",
    "fig.set_facecolor('w')\n",
    "ax = fig.add_subplot(111)\n",
    "day_list = []\n",
    "name_list = []\n",
    "for i, day in enumerate(samsung_range_2010_up.index):\n",
    "    if day.dayofweek == 0:\n",
    "        day_list.append(i)\n",
    "        name_list.append(day.strftime('%Y-%m-%d'))\n",
    "ax.xaxis.set_major_locator(ticker.FixedLocator(day_list))\n",
    "ax.xaxis.set_major_formatter(ticker.FixedFormatter(name_list))\n",
    "# X축 티커 숫자 20개로 제한\n",
    "ax.xaxis.set_major_locator(ticker.MaxNLocator(60))\n",
    "plt.xticks(rotation = 45)\n",
    "# 그래프 title과 축 이름 지정\n",
    "ax.set_title('SAMSUNG ELECTRONICS 2010', fontsize=30)\n",
    "ax.set_xlabel('Date')\n",
    "# 캔들차트 그리기\n",
    "candlestick2_ohlc(ax, samsung_range_2010_up['open'], samsung_range_2010_up['high'],\n",
    "                 samsung_range_2010_up['low'], samsung_range_2010_up['close'],\n",
    "                  width=0.5, colorup='r', colordown='b')\n",
    "plt.grid(True)\n",
    "plt.show()\n",
    "[오후 9:57] samsung_range_2011_up.index.rename('Date', inplace=True)"
   ]
  }
 ],
 "metadata": {
  "kernelspec": {
   "display_name": "Python 3",
   "language": "python",
   "name": "python3"
  },
  "language_info": {
   "codemirror_mode": {
    "name": "ipython",
    "version": 3
   },
   "file_extension": ".py",
   "mimetype": "text/x-python",
   "name": "python",
   "nbconvert_exporter": "python",
   "pygments_lexer": "ipython3",
   "version": "3.8.8"
  }
 },
 "nbformat": 4,
 "nbformat_minor": 5
}
